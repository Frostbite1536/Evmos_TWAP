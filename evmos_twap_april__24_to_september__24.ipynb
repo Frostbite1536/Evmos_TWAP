{
  "nbformat": 4,
  "nbformat_minor": 0,
  "metadata": {
    "colab": {
      "provenance": [],
      "include_colab_link": true
    },
    "kernelspec": {
      "name": "python3",
      "display_name": "Python 3"
    },
    "language_info": {
      "name": "python"
    }
  },
  "cells": [
    {
      "cell_type": "markdown",
      "metadata": {
        "id": "view-in-github",
        "colab_type": "text"
      },
      "source": [
        "<a href=\"https://colab.research.google.com/github/Frostbite1536/Evmos_TWAP/blob/main/evmos_twap_april__24_to_september__24.ipynb\" target=\"_parent\"><img src=\"https://colab.research.google.com/assets/colab-badge.svg\" alt=\"Open In Colab\"/></a>"
      ]
    },
    {
      "cell_type": "code",
      "source": [
        "import pandas as pd\n",
        "import requests\n",
        "import datetime\n",
        "from pprint import pprint\n",
        "\n",
        "api_endpoint = \"https://api.coingecko.com/api/v3/coins/evmos/market_chart/range?vs_currency=usd&from=1711929600&to=1727758555\"\n",
        "\n",
        "response = requests.get(api_endpoint)\n",
        "api_data = response.json()\n",
        "data = pd.DataFrame()\n",
        "\n",
        "data['time'] = [item[0] for item in api_data['prices']]\n",
        "data['close'] = [item[1] for item in api_data['prices']]\n",
        "stwap = data['close'].mean()\n",
        "\n",
        "pprint(data)\n",
        "print(\"\\n\\nTWAP: \" + str(stwap))\n",
        "\n",
        "\n"
      ],
      "metadata": {
        "colab": {
          "base_uri": "https://localhost:8080/"
        },
        "id": "0xVfJevtApky",
        "outputId": "28834540-0d95-40b3-b384-143292df6491"
      },
      "execution_count": 1,
      "outputs": [
        {
          "output_type": "stream",
          "name": "stdout",
          "text": [
            "              time     close\n",
            "0    1711929600000  0.081175\n",
            "1    1712016000000  0.078358\n",
            "2    1712102400000  0.074770\n",
            "3    1712188800000  0.073856\n",
            "4    1712275200000  0.071086\n",
            "..             ...       ...\n",
            "179  1727395200000  0.021119\n",
            "180  1727481600000  0.020682\n",
            "181  1727568000000  0.021804\n",
            "182  1727654400000  0.020856\n",
            "183  1727740800000  0.019058\n",
            "\n",
            "[184 rows x 2 columns]\n",
            "\n",
            "\n",
            "TWAP: 0.03627490519258439\n"
          ]
        }
      ]
    }
  ]
}