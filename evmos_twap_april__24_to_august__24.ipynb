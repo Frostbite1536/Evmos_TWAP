{
  "nbformat": 4,
  "nbformat_minor": 0,
  "metadata": {
    "colab": {
      "provenance": [],
      "include_colab_link": true
    },
    "kernelspec": {
      "name": "python3",
      "display_name": "Python 3"
    },
    "language_info": {
      "name": "python"
    }
  },
  "cells": [
    {
      "cell_type": "markdown",
      "metadata": {
        "id": "view-in-github",
        "colab_type": "text"
      },
      "source": [
        "<a href=\"https://colab.research.google.com/github/Frostbite1536/Evmos_TWAP/blob/main/evmos_twap_april__24_to_august__24.ipynb\" target=\"_parent\"><img src=\"https://colab.research.google.com/assets/colab-badge.svg\" alt=\"Open In Colab\"/></a>"
      ]
    },
    {
      "cell_type": "code",
      "source": [
        "import pandas as pd\n",
        "import requests\n",
        "import datetime\n",
        "from pprint import pprint\n",
        "\n",
        "api_endpoint = \"https://api.coingecko.com/api/v3/coins/evmos/market_chart/range?vs_currency=usd&from=1711929600&to=1725148799\"\n",
        "\n",
        "response = requests.get(api_endpoint)\n",
        "api_data = response.json()\n",
        "data = pd.DataFrame()\n",
        "\n",
        "data['time'] = [item[0] for item in api_data['prices']]\n",
        "data['close'] = [item[1] for item in api_data['prices']]\n",
        "stwap = data['close'].mean()\n",
        "\n",
        "pprint(data)\n",
        "print(\"\\n\\nTWAP: \" + str(stwap))\n",
        "\n",
        "\n"
      ],
      "metadata": {
        "colab": {
          "base_uri": "https://localhost:8080/"
        },
        "id": "0xVfJevtApky",
        "outputId": "14d50b3a-ffb9-4df5-e5cb-40052ef5216d"
      },
      "execution_count": null,
      "outputs": [
        {
          "output_type": "stream",
          "name": "stdout",
          "text": [
            "              time     close\n",
            "0    1711929600000  0.081175\n",
            "1    1712016000000  0.078358\n",
            "2    1712102400000  0.074770\n",
            "3    1712188800000  0.073856\n",
            "4    1712275200000  0.071086\n",
            "..             ...       ...\n",
            "148  1724716800000  0.022810\n",
            "149  1724803200000  0.021607\n",
            "150  1724889600000  0.021795\n",
            "151  1724976000000  0.021931\n",
            "152  1725062400000  0.021422\n",
            "\n",
            "[153 rows x 2 columns]\n",
            "\n",
            "\n",
            "TWAP: 0.03966182971418676\n"
          ]
        }
      ]
    }
  ]
}